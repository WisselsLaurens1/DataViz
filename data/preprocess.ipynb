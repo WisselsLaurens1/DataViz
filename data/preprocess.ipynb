{
 "cells": [
  {
   "cell_type": "code",
   "execution_count": 40,
   "metadata": {},
   "outputs": [],
   "source": [
    "import pandas as pd\n",
    "from datetime import datetime\n",
    "import json"
   ]
  },
  {
   "cell_type": "markdown",
   "metadata": {},
   "source": [
    "# Avg delay of sales per month"
   ]
  },
  {
   "cell_type": "code",
   "execution_count": 2,
   "metadata": {},
   "outputs": [],
   "source": [
    "PATH = \"./suncharge/Sales.csv\"\n",
    "df = pd.read_csv(PATH)"
   ]
  },
  {
   "cell_type": "code",
   "execution_count": 19,
   "metadata": {},
   "outputs": [],
   "source": [
    "data = df[[\"RequestedDeliveryDate\", \"DeliveryDate\"]]\n",
    "data = data.values"
   ]
  },
  {
   "cell_type": "code",
   "execution_count": 23,
   "metadata": {},
   "outputs": [
    {
     "name": "stdout",
     "output_type": "stream",
     "text": [
      "[['2024-11-15' '2024-11-15']\n",
      " ['2023-06-15' '2023-06-12']\n",
      " ['2022-04-15' '2022-04-15']\n",
      " ...\n",
      " ['2022-12-23' '2022-12-22']\n",
      " ['2022-07-12' '2022-07-08']\n",
      " ['2024-11-15' '2024-11-26']]\n"
     ]
    }
   ],
   "source": [
    "print(data)"
   ]
  },
  {
   "cell_type": "code",
   "execution_count": 37,
   "metadata": {},
   "outputs": [],
   "source": [
    "def days_difference(date_str1, date_str2):\n",
    "    # Convert date strings to datetime objects\n",
    "    date1 = datetime.strptime(date_str1, '%Y-%m-%d')\n",
    "    date2 = datetime.strptime(date_str2, '%Y-%m-%d')\n",
    "\n",
    "    # Compute the difference between the two dates\n",
    "    difference = date2 - date1\n",
    "\n",
    "    # Return the number of days as absolute value\n",
    "    return difference.days\n"
   ]
  },
  {
   "cell_type": "code",
   "execution_count": 38,
   "metadata": {},
   "outputs": [
    {
     "data": {
      "text/plain": [
       "-4"
      ]
     },
     "execution_count": 38,
     "metadata": {},
     "output_type": "execute_result"
    }
   ],
   "source": [
    "dp = data[40]\n",
    "days_difference(dp[0], dp[1])"
   ]
  },
  {
   "cell_type": "code",
   "execution_count": 42,
   "metadata": {},
   "outputs": [
    {
     "data": {
      "text/plain": [
       "'{\"2024\": {\"11\": 0.09796806966618288, \"01\": 0.08613589567604667, \"06\": 0.0, \"02\": 0.041116005873715125, \"09\": 0.04296125815113157, \"04\": -0.01667245571378951, \"05\": 0.12980269989615784, \"10\": -0.11032388663967611, \"07\": -0.1034363068379035, \"08\": -0.009308986752595776, \"12\": 0.04002808988764045, \"03\": 0.02207001522070015}, \"2023\": {\"06\": 0.1104775481111903, \"02\": 0.03116583301269719, \"11\": -0.10327085630282984, \"08\": -0.0647282796815507, \"04\": 0.027286702536510377, \"09\": 0.10407766990291262, \"01\": -0.05726256983240224, \"12\": 0.039444850255661065, \"03\": 0.08231292517006802, \"05\": -0.09870388833499502, \"07\": -0.2789240972733972, \"10\": -0.12477969686288333}, \"2022\": {\"04\": -0.013617960986382039, \"03\": -0.09922113105316627, \"02\": 0.31751662971175165, \"11\": -0.14227642276422764, \"12\": 0.0363963963963964, \"10\": -0.11760154738878142, \"07\": 0.16311800793937206, \"05\": 0.03127147766323024, \"06\": 0.014746227709190672, \"09\": 0.11313868613138686, \"08\": -0.1218760698390962, \"01\": 1.308411214953271}, \"2025\": {\"01\": -0.4182736455463728, \"02\": -2.97737556561086, \"03\": -14.0}}'"
      ]
     },
     "execution_count": 42,
     "metadata": {},
     "output_type": "execute_result"
    }
   ],
   "source": [
    "result = {}\n",
    "for dp in data:\n",
    "    date_of_sale = dp[1]\n",
    "    requested_date_of_sale = dp[0]\n",
    "\n",
    "    year = date_of_sale.split(\"-\")[0]\n",
    "    month = date_of_sale.split(\"-\")[1]\n",
    "    result.setdefault(year, {})\n",
    "    result[year].setdefault(month, [])\n",
    "    result[year][month].append(days_difference(date_of_sale, requested_date_of_sale))\n",
    "\n",
    "avg_result = {}\n",
    "for year, year_data in result.items():\n",
    "    avg_result[year] = {month: sum(month_data)/len(month_data) for month, month_data in year_data.items()}"
   ]
  },
  {
   "cell_type": "code",
   "execution_count": 45,
   "metadata": {},
   "outputs": [
    {
     "name": "stdout",
     "output_type": "stream",
     "text": [
      "{\n",
      "  \"2024\": {\n",
      "    \"11\": 0.09796806966618288,\n",
      "    \"01\": 0.08613589567604667,\n",
      "    \"06\": 0.0,\n",
      "    \"02\": 0.041116005873715125,\n",
      "    \"09\": 0.04296125815113157,\n",
      "    \"04\": -0.01667245571378951,\n",
      "    \"05\": 0.12980269989615784,\n",
      "    \"10\": -0.11032388663967611,\n",
      "    \"07\": -0.1034363068379035,\n",
      "    \"08\": -0.009308986752595776,\n",
      "    \"12\": 0.04002808988764045,\n",
      "    \"03\": 0.02207001522070015\n",
      "  },\n",
      "  \"2023\": {\n",
      "    \"06\": 0.1104775481111903,\n",
      "    \"02\": 0.03116583301269719,\n",
      "    \"11\": -0.10327085630282984,\n",
      "    \"08\": -0.0647282796815507,\n",
      "    \"04\": 0.027286702536510377,\n",
      "    \"09\": 0.10407766990291262,\n",
      "    \"01\": -0.05726256983240224,\n",
      "    \"12\": 0.039444850255661065,\n",
      "    \"03\": 0.08231292517006802,\n",
      "    \"05\": -0.09870388833499502,\n",
      "    \"07\": -0.2789240972733972,\n",
      "    \"10\": -0.12477969686288333\n",
      "  },\n",
      "  \"2022\": {\n",
      "    \"04\": -0.013617960986382039,\n",
      "    \"03\": -0.09922113105316627,\n",
      "    \"02\": 0.31751662971175165,\n",
      "    \"11\": -0.14227642276422764,\n",
      "    \"12\": 0.0363963963963964,\n",
      "    \"10\": -0.11760154738878142,\n",
      "    \"07\": 0.16311800793937206,\n",
      "    \"05\": 0.03127147766323024,\n",
      "    \"06\": 0.014746227709190672,\n",
      "    \"09\": 0.11313868613138686,\n",
      "    \"08\": -0.1218760698390962,\n",
      "    \"01\": 1.308411214953271\n",
      "  },\n",
      "  \"2025\": {\n",
      "    \"01\": -0.4182736455463728,\n",
      "    \"02\": -2.97737556561086,\n",
      "    \"03\": -14.0\n",
      "  }\n",
      "}\n"
     ]
    }
   ],
   "source": [
    "print(json.dumps(avg_result, indent=2))"
   ]
  }
 ],
 "metadata": {
  "kernelspec": {
   "display_name": "DataViz",
   "language": "python",
   "name": "python3"
  },
  "language_info": {
   "codemirror_mode": {
    "name": "ipython",
    "version": 3
   },
   "file_extension": ".py",
   "mimetype": "text/x-python",
   "name": "python",
   "nbconvert_exporter": "python",
   "pygments_lexer": "ipython3",
   "version": "3.8.18"
  }
 },
 "nbformat": 4,
 "nbformat_minor": 2
}
