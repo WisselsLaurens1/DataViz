{
 "cells": [
  {
   "cell_type": "code",
   "execution_count": 1,
   "metadata": {},
   "outputs": [],
   "source": [
    "from datetime import datetime"
   ]
  },
  {
   "cell_type": "code",
   "execution_count": 5,
   "metadata": {},
   "outputs": [
    {
     "data": {
      "text/plain": [
       "739015"
      ]
     },
     "execution_count": 5,
     "metadata": {},
     "output_type": "execute_result"
    }
   ],
   "source": [
    "def days_from_year_0(year, month, day):\n",
    "    date_object = datetime(year, month, day)\n",
    "    year_0 = datetime(1, 1, 1)\n",
    "    difference = date_object - year_0\n",
    "    return difference.days\n",
    "\n",
    "# Example usage:\n",
    "year = 2024\n",
    "month = 5\n",
    "day = 10\n",
    "days = days_from_year_0(year, month, day)\n",
    "days"
   ]
  }
 ],
 "metadata": {
  "kernelspec": {
   "display_name": "DataViz",
   "language": "python",
   "name": "python3"
  },
  "language_info": {
   "codemirror_mode": {
    "name": "ipython",
    "version": 3
   },
   "file_extension": ".py",
   "mimetype": "text/x-python",
   "name": "python",
   "nbconvert_exporter": "python",
   "pygments_lexer": "ipython3",
   "version": "3.8.18"
  }
 },
 "nbformat": 4,
 "nbformat_minor": 2
}
